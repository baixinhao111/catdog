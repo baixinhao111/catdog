{
 "cells": [
  {
   "cell_type": "code",
   "execution_count": 2,
   "id": "c983e70f-6020-4626-97c7-f7637a583dbf",
   "metadata": {},
   "outputs": [],
   "source": [
    "import os\n",
    "import torch\n",
    "import torch.nn as nn\n",
    "import torch.optim as optim\n",
    "from torchvision import datasets, transforms\n",
    "from torch.utils.data import DataLoader\n",
    "import matplotlib.pyplot as plt"
   ]
  },
  {
   "cell_type": "code",
   "execution_count": 3,
   "id": "b826b372-fe55-4ca4-9d4f-585d64b43daa",
   "metadata": {},
   "outputs": [
    {
     "name": "stderr",
     "output_type": "stream",
     "text": [
      "/root/miniconda3/envs/myconda/lib/python3.8/site-packages/torch/utils/data/dataloader.py:487: UserWarning: This DataLoader will create 10 worker processes in total. Our suggested max number of worker in current system is 6, which is smaller than what this DataLoader is going to create. Please be aware that excessive worker creation might get DataLoader running slow or even freeze, lower the worker number to avoid potential slowness/freeze if necessary.\n",
      "  warnings.warn(_create_warning_msg(\n"
     ]
    }
   ],
   "source": [
    "# 设置设备\n",
    "device = torch.device(\"cuda\" if torch.cuda.is_available() else \"cpu\")\n",
    "\n",
    "# 数据路径\n",
    "train_dir = \"/mnt/deepl/dataset/CatDog/train\"  # 替换为你的训练集路径\n",
    "val_dir = \"/mnt/deepl/dataset/CatDog/validation\"  # 替换为你的验证集路径\n",
    "\n",
    "# 数据预处理\n",
    "transform_no_da = transforms.Compose([\n",
    "    transforms.Resize((128, 128)),\n",
    "    transforms.ToTensor()\n",
    "])\n",
    "\n",
    "transform_da = transforms.Compose([\n",
    "    transforms.Resize((128, 128)),\n",
    "    transforms.RandomHorizontalFlip(),\n",
    "    transforms.RandomRotation(10),\n",
    "    transforms.ToTensor()\n",
    "])\n",
    "\n",
    "# 加载数据集\n",
    "train_dataset_no_da = datasets.ImageFolder(train_dir, transform=transform_no_da)\n",
    "train_dataset_da = datasets.ImageFolder(train_dir, transform=transform_da)\n",
    "val_dataset = datasets.ImageFolder(val_dir, transform=transform_no_da)\n",
    "\n",
    "# 创建数据加载器\n",
    "train_loader_no_da = DataLoader(train_dataset_no_da, batch_size=32, shuffle=True, num_workers=10)\n",
    "train_loader_da = DataLoader(train_dataset_da, batch_size=32, shuffle=True, num_workers=10)\n",
    "val_loader = DataLoader(val_dataset, batch_size=32, shuffle=False, num_workers=10)\n",
    "\n"
   ]
  },
  {
   "cell_type": "code",
   "execution_count": 5,
   "id": "d3430f9f-a872-41d9-84bd-6d1c877cd645",
   "metadata": {},
   "outputs": [
    {
     "name": "stdout",
     "output_type": "stream",
     "text": [
      "Training scenario 1: BN=False, DA=False\n"
     ]
    },
    {
     "name": "stderr",
     "output_type": "stream",
     "text": [
      "Epoch 1/3 - Training: 100%|██████████| 469/469 [00:50<00:00,  9.30it/s, loss=0.693]\n",
      "Epoch 1/3 - Validation: 100%|██████████| 313/313 [00:35<00:00,  8.84it/s]\n"
     ]
    },
    {
     "name": "stdout",
     "output_type": "stream",
     "text": [
      "Epoch 1/3, Loss: 0.6987, Val Accuracy: 0.5000\n"
     ]
    },
    {
     "name": "stderr",
     "output_type": "stream",
     "text": [
      "Epoch 2/3 - Training: 100%|██████████| 469/469 [00:43<00:00, 10.82it/s, loss=0.696]\n",
      "Epoch 2/3 - Validation: 100%|██████████| 313/313 [00:29<00:00, 10.49it/s]\n"
     ]
    },
    {
     "name": "stdout",
     "output_type": "stream",
     "text": [
      "Epoch 2/3, Loss: 0.6932, Val Accuracy: 0.5000\n"
     ]
    },
    {
     "name": "stderr",
     "output_type": "stream",
     "text": [
      "Epoch 3/3 - Training: 100%|██████████| 469/469 [00:33<00:00, 13.84it/s, loss=0.693]\n",
      "Epoch 3/3 - Validation: 100%|██████████| 313/313 [00:27<00:00, 11.34it/s]\n"
     ]
    },
    {
     "name": "stdout",
     "output_type": "stream",
     "text": [
      "Epoch 3/3, Loss: 0.6940, Val Accuracy: 0.5000\n",
      "Training scenario 2: BN=True, DA=False\n"
     ]
    },
    {
     "name": "stderr",
     "output_type": "stream",
     "text": [
      "Epoch 1/3 - Training: 100%|██████████| 469/469 [00:43<00:00, 10.81it/s, loss=0.511]\n",
      "Epoch 1/3 - Validation: 100%|██████████| 313/313 [00:26<00:00, 11.61it/s]\n"
     ]
    },
    {
     "name": "stdout",
     "output_type": "stream",
     "text": [
      "Epoch 1/3, Loss: 0.6641, Val Accuracy: 0.5227\n"
     ]
    },
    {
     "name": "stderr",
     "output_type": "stream",
     "text": [
      "Epoch 2/3 - Training: 100%|██████████| 469/469 [00:38<00:00, 12.34it/s, loss=0.608]\n",
      "Epoch 2/3 - Validation: 100%|██████████| 313/313 [00:28<00:00, 11.16it/s]\n"
     ]
    },
    {
     "name": "stdout",
     "output_type": "stream",
     "text": [
      "Epoch 2/3, Loss: 0.5714, Val Accuracy: 0.6209\n"
     ]
    },
    {
     "name": "stderr",
     "output_type": "stream",
     "text": [
      "Epoch 3/3 - Training: 100%|██████████| 469/469 [00:38<00:00, 12.06it/s, loss=0.386]\n",
      "Epoch 3/3 - Validation: 100%|██████████| 313/313 [00:26<00:00, 11.96it/s]\n"
     ]
    },
    {
     "name": "stdout",
     "output_type": "stream",
     "text": [
      "Epoch 3/3, Loss: 0.5040, Val Accuracy: 0.7680\n",
      "Training scenario 3: BN=False, DA=True\n"
     ]
    },
    {
     "name": "stderr",
     "output_type": "stream",
     "text": [
      "Epoch 1/3 - Training: 100%|██████████| 469/469 [00:42<00:00, 11.12it/s, loss=0.691]\n",
      "Epoch 1/3 - Validation: 100%|██████████| 313/313 [00:24<00:00, 12.66it/s]\n"
     ]
    },
    {
     "name": "stdout",
     "output_type": "stream",
     "text": [
      "Epoch 1/3, Loss: 0.6997, Val Accuracy: 0.5083\n"
     ]
    },
    {
     "name": "stderr",
     "output_type": "stream",
     "text": [
      "Epoch 2/3 - Training: 100%|██████████| 469/469 [00:36<00:00, 12.91it/s, loss=0.693]\n",
      "Epoch 2/3 - Validation: 100%|██████████| 313/313 [00:28<00:00, 11.13it/s]\n"
     ]
    },
    {
     "name": "stdout",
     "output_type": "stream",
     "text": [
      "Epoch 2/3, Loss: 0.6935, Val Accuracy: 0.5000\n"
     ]
    },
    {
     "name": "stderr",
     "output_type": "stream",
     "text": [
      "Epoch 3/3 - Training: 100%|██████████| 469/469 [00:44<00:00, 10.62it/s, loss=0.693]\n",
      "Epoch 3/3 - Validation: 100%|██████████| 313/313 [00:25<00:00, 12.50it/s]\n"
     ]
    },
    {
     "name": "stdout",
     "output_type": "stream",
     "text": [
      "Epoch 3/3, Loss: 0.6932, Val Accuracy: 0.5000\n",
      "Training scenario 4: BN=True, DA=True\n"
     ]
    },
    {
     "name": "stderr",
     "output_type": "stream",
     "text": [
      "Epoch 1/3 - Training: 100%|██████████| 469/469 [00:35<00:00, 13.17it/s, loss=0.6]  \n",
      "Epoch 1/3 - Validation: 100%|██████████| 313/313 [00:23<00:00, 13.27it/s]\n"
     ]
    },
    {
     "name": "stdout",
     "output_type": "stream",
     "text": [
      "Epoch 1/3, Loss: 0.6572, Val Accuracy: 0.5809\n"
     ]
    },
    {
     "name": "stderr",
     "output_type": "stream",
     "text": [
      "Epoch 2/3 - Training: 100%|██████████| 469/469 [00:33<00:00, 13.88it/s, loss=0.741]\n",
      "Epoch 2/3 - Validation: 100%|██████████| 313/313 [00:26<00:00, 12.03it/s]\n"
     ]
    },
    {
     "name": "stdout",
     "output_type": "stream",
     "text": [
      "Epoch 2/3, Loss: 0.5600, Val Accuracy: 0.7260\n"
     ]
    },
    {
     "name": "stderr",
     "output_type": "stream",
     "text": [
      "Epoch 3/3 - Training: 100%|██████████| 469/469 [00:34<00:00, 13.59it/s, loss=0.685]\n",
      "Epoch 3/3 - Validation: 100%|██████████| 313/313 [00:27<00:00, 11.57it/s]"
     ]
    },
    {
     "name": "stdout",
     "output_type": "stream",
     "text": [
      "Epoch 3/3, Loss: 0.4906, Val Accuracy: 0.7682\n"
     ]
    },
    {
     "name": "stderr",
     "output_type": "stream",
     "text": [
      "\n"
     ]
    }
   ],
   "source": [
    "from tqdm import tqdm\n",
    "import torch.nn as nn\n",
    "import torch.optim as optim\n",
    "import torch\n",
    "import torch.nn.functional as F\n",
    "\n",
    "\n",
    "\n",
    "\n",
    "\n",
    "class ResidualBlock(nn.Module):\n",
    "    def __init__(self, in_channels, out_channels, stride=1, use_bn=False):\n",
    "        super(ResidualBlock, self).__init__()\n",
    "        self.use_bn = use_bn\n",
    "\n",
    "        # 主分支卷积层\n",
    "        self.conv1 = nn.Conv2d(in_channels, out_channels, kernel_size=3, stride=stride, padding=1, bias=not use_bn)\n",
    "        self.bn1 = nn.BatchNorm2d(out_channels) if use_bn else None\n",
    "        self.relu = nn.ReLU(inplace=True)\n",
    "        self.conv2 = nn.Conv2d(out_channels, out_channels, kernel_size=3, stride=1, padding=1, bias=not use_bn)\n",
    "        self.bn2 = nn.BatchNorm2d(out_channels) if use_bn else None\n",
    "\n",
    "        # 跳跃连接（shortcut）\n",
    "        self.shortcut = nn.Sequential()\n",
    "        if stride != 1 or in_channels != out_channels:\n",
    "            self.shortcut = nn.Sequential(\n",
    "                nn.Conv2d(in_channels, out_channels, kernel_size=1, stride=stride, bias=False),\n",
    "                nn.BatchNorm2d(out_channels) if use_bn else nn.Identity()\n",
    "            )\n",
    "\n",
    "    def forward(self, x):\n",
    "        shortcut = self.shortcut(x)\n",
    "        out = self.conv1(x)\n",
    "        if self.use_bn:\n",
    "            out = self.bn1(out)\n",
    "        out = self.relu(out)\n",
    "        out = self.conv2(out)\n",
    "        if self.use_bn:\n",
    "            out = self.bn2(out)\n",
    "        out += shortcut  # 残差连接\n",
    "        return self.relu(out)\n",
    "\n",
    "class CustomResNet(nn.Module):\n",
    "    def __init__(self, use_bn=False, num_classes=2):\n",
    "        super(CustomResNet, self).__init__()\n",
    "        self.use_bn = use_bn\n",
    "\n",
    "        # 初始卷积层和池化层\n",
    "        self.conv1 = nn.Conv2d(3, 64, kernel_size=7, stride=2, padding=3, bias=not use_bn)\n",
    "        self.bn1 = nn.BatchNorm2d(64) if use_bn else None\n",
    "        self.relu = nn.ReLU(inplace=True)\n",
    "        self.maxpool = nn.MaxPool2d(kernel_size=3, stride=2, padding=1)\n",
    "\n",
    "        # 残差层\n",
    "        self.layer1 = self._make_layer(64, 64, 2, stride=1)\n",
    "        self.layer2 = self._make_layer(64, 128, 2, stride=2)\n",
    "        self.layer3 = self._make_layer(128, 256, 2, stride=2)\n",
    "        self.layer4 = self._make_layer(256, 512, 2, stride=2)\n",
    "\n",
    "        # 全局池化和全连接层\n",
    "        self.avgpool = nn.AdaptiveAvgPool2d((1, 1))\n",
    "        self.fc = nn.Linear(512, num_classes)\n",
    "\n",
    "    def _make_layer(self, in_channels, out_channels, blocks, stride):\n",
    "        layers = []\n",
    "        layers.append(ResidualBlock(in_channels, out_channels, stride, use_bn=self.use_bn))\n",
    "        for _ in range(1, blocks):\n",
    "            layers.append(ResidualBlock(out_channels, out_channels, stride=1, use_bn=self.use_bn))\n",
    "        return nn.Sequential(*layers)\n",
    "\n",
    "    def forward(self, x):\n",
    "        x = self.conv1(x)\n",
    "        if self.use_bn:\n",
    "            x = self.bn1(x)\n",
    "        x = self.relu(x)\n",
    "        x = self.maxpool(x)\n",
    "\n",
    "        x = self.layer1(x)\n",
    "        x = self.layer2(x)\n",
    "        x = self.layer3(x)\n",
    "        x = self.layer4(x)\n",
    "\n",
    "        x = self.avgpool(x)\n",
    "        x = torch.flatten(x, 1)\n",
    "        x = self.fc(x)\n",
    "        return x\n",
    "\n",
    "    \n",
    "    \n",
    "    \n",
    "    \n",
    "    \n",
    "    \n",
    "# 定义自定义 CNN 模型（保持原样）\n",
    "class CustomCNN(nn.Module):\n",
    "    def __init__(self, use_bn=False):\n",
    "        super(CustomCNN, self).__init__()\n",
    "        self.use_bn = use_bn\n",
    "        self.conv1 = nn.Conv2d(3, 32, kernel_size=3, padding=1)\n",
    "        self.bn1 = nn.BatchNorm2d(32) if use_bn else None\n",
    "        self.conv2 = nn.Conv2d(32, 64, kernel_size=3, padding=1)\n",
    "        self.bn2 = nn.BatchNorm2d(64) if use_bn else None\n",
    "        self.fc1 = nn.Linear(64 * 32 * 32, 128)\n",
    "        self.fc2 = nn.Linear(128, 2)\n",
    "        self.relu = nn.ReLU()\n",
    "        self.pool = nn.MaxPool2d(2, 2)\n",
    "\n",
    "    def forward(self, x):\n",
    "        x = self.conv1(x)\n",
    "        if self.use_bn:\n",
    "            x = self.bn1(x)\n",
    "        x = self.relu(x)\n",
    "        x = self.pool(x)\n",
    "        x = self.conv2(x)\n",
    "        if self.use_bn:\n",
    "            x = self.bn2(x)\n",
    "        x = self.relu(x)\n",
    "        x = self.pool(x)\n",
    "        x = x.view(x.size(0), -1)\n",
    "        x = self.relu(self.fc1(x))\n",
    "        x = self.fc2(x)\n",
    "        return x\n",
    "\n",
    "# 训练模型函数\n",
    "def train_model(model, train_loader, val_loader, epochs=3):\n",
    "    criterion = nn.CrossEntropyLoss()\n",
    "    optimizer = optim.Adam(model.parameters(), lr=0.001)\n",
    "    train_losses, val_accuracies = [], []\n",
    "\n",
    "    for epoch in range(epochs):\n",
    "        model.train()\n",
    "        running_loss = 0.0\n",
    "\n",
    "        # 使用 tqdm 显示训练进度\n",
    "        train_loader_tqdm = tqdm(train_loader, desc=f\"Epoch {epoch+1}/{epochs} - Training\")\n",
    "        for images, labels in train_loader_tqdm:\n",
    "            images, labels = images.to(device), labels.to(device)\n",
    "            optimizer.zero_grad()\n",
    "            outputs = model(images)\n",
    "            loss = criterion(outputs, labels)\n",
    "            loss.backward()\n",
    "            optimizer.step()\n",
    "            running_loss += loss.item()\n",
    "\n",
    "            # 更新 tqdm 的显示信息\n",
    "            train_loader_tqdm.set_postfix(loss=loss.item())\n",
    "\n",
    "        train_loss = running_loss / len(train_loader)\n",
    "        train_losses.append(train_loss)\n",
    "\n",
    "        # 验证模型\n",
    "        model.eval()\n",
    "        correct, total = 0, 0\n",
    "\n",
    "        # 使用 tqdm 显示验证进度\n",
    "        val_loader_tqdm = tqdm(val_loader, desc=f\"Epoch {epoch+1}/{epochs} - Validation\")\n",
    "        with torch.no_grad():\n",
    "            for images, labels in val_loader_tqdm:\n",
    "                images, labels = images.to(device), labels.to(device)\n",
    "                outputs = model(images)\n",
    "                _, predicted = torch.max(outputs, 1)\n",
    "                total += labels.size(0)\n",
    "                correct += (predicted == labels).sum().item()\n",
    "\n",
    "        val_accuracy = correct / total\n",
    "        val_accuracies.append(val_accuracy)\n",
    "\n",
    "        print(f\"Epoch {epoch+1}/{epochs}, Loss: {train_loss:.4f}, Val Accuracy: {val_accuracy:.4f}\")\n",
    "\n",
    "    return train_losses, val_accuracies\n",
    "\n",
    "# 训练不同情形下的模型（保持原样）\n",
    "scenarios = [\n",
    "    {\"use_bn\": False, \"use_da\": False, \"loader\": train_loader_no_da},\n",
    "    {\"use_bn\": True, \"use_da\": False, \"loader\": train_loader_no_da},\n",
    "    {\"use_bn\": False, \"use_da\": True, \"loader\": train_loader_da},\n",
    "    {\"use_bn\": True, \"use_da\": True, \"loader\": train_loader_da}\n",
    "]\n",
    "\n",
    "results = []\n",
    "\n",
    "for i, scenario in enumerate(scenarios):\n",
    "    print(f\"Training scenario {i+1}: BN={scenario['use_bn']}, DA={scenario['use_da']}\")\n",
    "    model = CustomResNet(use_bn=scenario[\"use_bn\"]).to(device)\n",
    "    train_loss, val_accuracy = train_model(model, scenario[\"loader\"], val_loader)\n",
    "    results.append((train_loss, val_accuracy))\n"
   ]
  },
  {
   "cell_type": "code",
   "execution_count": 13,
   "id": "6cdfdb9f-579e-417d-82e5-3e62b63a3c6b",
   "metadata": {},
   "outputs": [
    {
     "data": {
      "image/png": "[encoded data removed]",
      "text/plain": [
       "<Figure size 432x288 with 1 Axes>"
      ]
     },
     "metadata": {
      "needs_background": "light"
     },
     "output_type": "display_data"
    },
    {
     "data": {
      "image/png": "[encoded data removed]",
      "text/plain": [
       "<Figure size 432x288 with 1 Axes>"
      ]
     },
     "metadata": {
      "needs_background": "light"
     },
     "output_type": "display_data"
    },
    {
     "data": {
      "image/png": "[encoded data removed]",
      "text/plain": [
       "<Figure size 432x288 with 1 Axes>"
      ]
     },
     "metadata": {
      "needs_background": "light"
     },
     "output_type": "display_data"
    },
    {
     "data": {
      "image/png": "[encoded data removed]",
      "text/plain": [
       "<Figure size 432x288 with 1 Axes>"
      ]
     },
     "metadata": {
      "needs_background": "light"
     },
     "output_type": "display_data"
    }
   ],
   "source": [
    "# 绘制损失和准确率曲线\n",
    "for i, (train_loss, val_accuracy) in enumerate(results):\n",
    "    plt.figure()\n",
    "    plt.plot(train_loss, label=\"Train Loss\")\n",
    "    plt.plot(val_accuracy, label=\"Validation Accuracy\")\n",
    "    plt.title(f\"Scenario {i+1}: BN={scenarios[i]['use_bn']}, DA={scenarios[i]['use_da']}\")\n",
    "    plt.xlabel(\"Epochs\")\n",
    "    plt.ylabel(\"Value\")\n",
    "    plt.legend()\n",
    "    plt.show()"
   ]
  },
  {
   "cell_type": "code",
   "execution_count": null,
   "id": "237c5397-5b4a-4e24-b530-20c3adf5bea9",
   "metadata": {},
   "outputs": [],
   "source": []
  }
 ],
 "metadata": {
  "kernelspec": {
   "display_name": "myconda",
   "language": "python",
   "name": "myconda"
  },
  "language_info": {
   "codemirror_mode": {
    "name": "ipython",
    "version": 3
   },
   "file_extension": ".py",
   "mimetype": "text/x-python",
   "name": "python",
   "nbconvert_exporter": "python",
   "pygments_lexer": "ipython3",
   "version": "3.8.12"
  }
 },
 "nbformat": 4,
 "nbformat_minor": 5
}
